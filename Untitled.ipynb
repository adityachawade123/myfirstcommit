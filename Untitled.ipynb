{
 "cells": [
  {
   "cell_type": "code",
   "execution_count": null,
   "id": "d1d87bd0-036f-4513-93cb-24930a650c91",
   "metadata": {},
   "outputs": [],
   "source": []
  },
  {
   "cell_type": "code",
   "execution_count": 1,
   "id": "18084340-78b0-4340-80d7-448094709efa",
   "metadata": {},
   "outputs": [
    {
     "name": "stdout",
     "output_type": "stream",
     "text": [
      "1\n"
     ]
    }
   ],
   "source": [
    "a =' hi how are you '\n",
    "count = 0\n",
    "for i in a:\n",
    "    if i=='a':\n",
    "        count=1+count\n",
    "print(count)"
   ]
  },
  {
   "cell_type": "code",
   "execution_count": 3,
   "id": "4506862b-f88e-4f38-bf30-1d4b16f5ff9f",
   "metadata": {},
   "outputs": [
    {
     "name": "stdout",
     "output_type": "stream",
     "text": [
      "1\n"
     ]
    }
   ],
   "source": [
    "a =' hi how are you '\n",
    "count = 0\n",
    "for i in range(len(a)):\n",
    "    if a[i] == 'a':\n",
    "        count=1+count\n",
    "print(count)"
   ]
  },
  {
   "cell_type": "code",
   "execution_count": null,
   "id": "a36f00bb-bd62-420a-bbfd-b4b24dcff6a8",
   "metadata": {},
   "outputs": [],
   "source": [
    "#muttable and inmuttable concepts\n",
    "#mutablke we can change\n",
    "#immutabke we can not change the value\n",
    "\n",
    "\n"
   ]
  },
  {
   "cell_type": "code",
   "execution_count": 5,
   "id": "03023c72-cefb-4432-8766-b6425b2b4647",
   "metadata": {},
   "outputs": [
    {
     "name": "stdout",
     "output_type": "stream",
     "text": [
      "Pythom\n"
     ]
    }
   ],
   "source": [
    "a ='python'\n",
    "a ='Pythom'\n",
    "print(a) # we can't change the string and immutable"
   ]
  },
  {
   "cell_type": "code",
   "execution_count": 6,
   "id": "79ff3618-71d5-482f-a36e-5ef4e98934d6",
   "metadata": {},
   "outputs": [
    {
     "name": "stdout",
     "output_type": "stream",
     "text": [
      "[100, 1992, 120, 293]\n"
     ]
    }
   ],
   "source": [
    "list1 =[100,122,120,293]\n",
    "list1[1]=1992\n",
    "print(list1)"
   ]
  },
  {
   "cell_type": "code",
   "execution_count": null,
   "id": "e6a5d173-cf6c-45af-a9f5-152cb57de9b9",
   "metadata": {},
   "outputs": [],
   "source": [
    "#slicing = cut into the parts\n",
    "#erange(start,mid ,end)+\n"
   ]
  },
  {
   "cell_type": "code",
   "execution_count": 12,
   "id": "7d741919-bf0a-4a17-9d6e-93fdc6730290",
   "metadata": {},
   "outputs": [
    {
     "name": "stdout",
     "output_type": "stream",
     "text": [
      "hi how are you \n",
      "hi how are you \n",
      "hi how are you \n",
      "\n"
     ]
    }
   ],
   "source": [
    "string1='hi how are you '\n",
    "(string1[1:14:2])\n",
    "print(string1[::])\n",
    "print(string1[:])\n",
    "print(string1[::])\n",
    "print(string1[1:2:-2])"
   ]
  },
  {
   "cell_type": "code",
   "execution_count": null,
   "id": "c06dc190-5db1-4001-8370-51c4f23149c4",
   "metadata": {},
   "outputs": [],
   "source": [
    "#reading method \n",
    "#single amd double string\n",
    "#type len max min concatination\n",
    "#in \n",
    "#index\n",
    "#mutable\n",
    "#slicing\n"
   ]
  },
  {
   "cell_type": "code",
   "execution_count": null,
   "id": "e21df985-fd90-4aee-9c03-45acbaf8b694",
   "metadata": {},
   "outputs": [],
   "source": [
    "#string methods\n",
    "import <package name>\n",
    "dir<package name>\n"
   ]
  },
  {
   "cell_type": "code",
   "execution_count": 13,
   "id": "efec5e4b-b7fc-4e6e-aaae-f2817527a1af",
   "metadata": {},
   "outputs": [
    {
     "data": {
      "text/plain": [
       "['__add__',\n",
       " '__class__',\n",
       " '__contains__',\n",
       " '__delattr__',\n",
       " '__dir__',\n",
       " '__doc__',\n",
       " '__eq__',\n",
       " '__format__',\n",
       " '__ge__',\n",
       " '__getattribute__',\n",
       " '__getitem__',\n",
       " '__getnewargs__',\n",
       " '__getstate__',\n",
       " '__gt__',\n",
       " '__hash__',\n",
       " '__init__',\n",
       " '__init_subclass__',\n",
       " '__iter__',\n",
       " '__le__',\n",
       " '__len__',\n",
       " '__lt__',\n",
       " '__mod__',\n",
       " '__mul__',\n",
       " '__ne__',\n",
       " '__new__',\n",
       " '__reduce__',\n",
       " '__reduce_ex__',\n",
       " '__repr__',\n",
       " '__rmod__',\n",
       " '__rmul__',\n",
       " '__setattr__',\n",
       " '__sizeof__',\n",
       " '__str__',\n",
       " '__subclasshook__',\n",
       " 'capitalize',\n",
       " 'casefold',\n",
       " 'center',\n",
       " 'count',\n",
       " 'encode',\n",
       " 'endswith',\n",
       " 'expandtabs',\n",
       " 'find',\n",
       " 'format',\n",
       " 'format_map',\n",
       " 'index',\n",
       " 'isalnum',\n",
       " 'isalpha',\n",
       " 'isascii',\n",
       " 'isdecimal',\n",
       " 'isdigit',\n",
       " 'isidentifier',\n",
       " 'islower',\n",
       " 'isnumeric',\n",
       " 'isprintable',\n",
       " 'isspace',\n",
       " 'istitle',\n",
       " 'isupper',\n",
       " 'join',\n",
       " 'ljust',\n",
       " 'lower',\n",
       " 'lstrip',\n",
       " 'maketrans',\n",
       " 'partition',\n",
       " 'removeprefix',\n",
       " 'removesuffix',\n",
       " 'replace',\n",
       " 'rfind',\n",
       " 'rindex',\n",
       " 'rjust',\n",
       " 'rpartition',\n",
       " 'rsplit',\n",
       " 'rstrip',\n",
       " 'split',\n",
       " 'splitlines',\n",
       " 'startswith',\n",
       " 'strip',\n",
       " 'swapcase',\n",
       " 'title',\n",
       " 'translate',\n",
       " 'upper',\n",
       " 'zfill']"
      ]
     },
     "execution_count": 13,
     "metadata": {},
     "output_type": "execute_result"
    }
   ],
   "source": [
    "dir('aditya')"
   ]
  },
  {
   "cell_type": "code",
   "execution_count": 14,
   "id": "094c83a5-58b0-4e9f-b8f2-d3140456103c",
   "metadata": {},
   "outputs": [
    {
     "data": {
      "text/plain": [
       "['__add__',\n",
       " '__class__',\n",
       " '__contains__',\n",
       " '__delattr__',\n",
       " '__dir__',\n",
       " '__doc__',\n",
       " '__eq__',\n",
       " '__format__',\n",
       " '__ge__',\n",
       " '__getattribute__',\n",
       " '__getitem__',\n",
       " '__getnewargs__',\n",
       " '__getstate__',\n",
       " '__gt__',\n",
       " '__hash__',\n",
       " '__init__',\n",
       " '__init_subclass__',\n",
       " '__iter__',\n",
       " '__le__',\n",
       " '__len__',\n",
       " '__lt__',\n",
       " '__mod__',\n",
       " '__mul__',\n",
       " '__ne__',\n",
       " '__new__',\n",
       " '__reduce__',\n",
       " '__reduce_ex__',\n",
       " '__repr__',\n",
       " '__rmod__',\n",
       " '__rmul__',\n",
       " '__setattr__',\n",
       " '__sizeof__',\n",
       " '__str__',\n",
       " '__subclasshook__',\n",
       " 'capitalize',\n",
       " 'casefold',\n",
       " 'center',\n",
       " 'count',\n",
       " 'encode',\n",
       " 'endswith',\n",
       " 'expandtabs',\n",
       " 'find',\n",
       " 'format',\n",
       " 'format_map',\n",
       " 'index',\n",
       " 'isalnum',\n",
       " 'isalpha',\n",
       " 'isascii',\n",
       " 'isdecimal',\n",
       " 'isdigit',\n",
       " 'isidentifier',\n",
       " 'islower',\n",
       " 'isnumeric',\n",
       " 'isprintable',\n",
       " 'isspace',\n",
       " 'istitle',\n",
       " 'isupper',\n",
       " 'join',\n",
       " 'ljust',\n",
       " 'lower',\n",
       " 'lstrip',\n",
       " 'maketrans',\n",
       " 'partition',\n",
       " 'removeprefix',\n",
       " 'removesuffix',\n",
       " 'replace',\n",
       " 'rfind',\n",
       " 'rindex',\n",
       " 'rjust',\n",
       " 'rpartition',\n",
       " 'rsplit',\n",
       " 'rstrip',\n",
       " 'split',\n",
       " 'splitlines',\n",
       " 'startswith',\n",
       " 'strip',\n",
       " 'swapcase',\n",
       " 'title',\n",
       " 'translate',\n",
       " 'upper',\n",
       " 'zfill']"
      ]
     },
     "execution_count": 14,
     "metadata": {},
     "output_type": "execute_result"
    }
   ],
   "source": [
    "string1='welcome'\n",
    "dir(string1)"
   ]
  },
  {
   "cell_type": "code",
   "execution_count": 23,
   "id": "8ea0cfc2-e58f-4cc3-bb62-f8b57d8fcc05",
   "metadata": {},
   "outputs": [
    {
     "data": {
      "text/plain": [
       "0"
      ]
     },
     "execution_count": 23,
     "metadata": {},
     "output_type": "execute_result"
    }
   ],
   "source": [
    "string1.upper()\n",
    "string1.count('s')"
   ]
  },
  {
   "cell_type": "code",
   "execution_count": 22,
   "id": "09c996c5-56fa-42c4-94d8-70b11e009810",
   "metadata": {},
   "outputs": [
    {
     "data": {
      "text/plain": [
       "4"
      ]
     },
     "execution_count": 22,
     "metadata": {},
     "output_type": "execute_result"
    }
   ],
   "source": [
    "import random\n",
    "random.randint(1,10)"
   ]
  },
  {
   "cell_type": "code",
   "execution_count": 28,
   "id": "6041dd3d-b85b-47ed-aa13-5a7560c742eb",
   "metadata": {},
   "outputs": [
    {
     "data": {
      "text/plain": [
       "'aditya come'"
      ]
     },
     "execution_count": 28,
     "metadata": {},
     "output_type": "execute_result"
    }
   ],
   "source": [
    "#casefold\n",
    "string1='ADITYA come'\n",
    "string1.casefold()"
   ]
  },
  {
   "cell_type": "code",
   "execution_count": 53,
   "id": "94cb255c-28ca-479a-a133-a2c8e6aa911a",
   "metadata": {},
   "outputs": [
    {
     "data": {
      "text/plain": [
       "3"
      ]
     },
     "execution_count": 53,
     "metadata": {},
     "output_type": "execute_result"
    }
   ],
   "source": [
    "\n",
    "string1=\"aditya aditya aditya\"\n",
    "string1.count(\"ab\")\n",
    "string1.count('ad')\n",
    "\n"
   ]
  },
  {
   "cell_type": "code",
   "execution_count": 68,
   "id": "7abc3ea8-b3ae-4a74-bb6e-71ac459dcf6a",
   "metadata": {},
   "outputs": [
    {
     "name": "stdout",
     "output_type": "stream",
     "text": [
      "0\n"
     ]
    }
   ],
   "source": [
    "\n",
    "string1=\"aditya aditya aditya\"\n",
    "string1.count(\"ab\")\n",
    "string1.count('a',8,20)\n",
    "print(string1.count('A'.upper()))\n"
   ]
  },
  {
   "cell_type": "code",
   "execution_count": 4,
   "id": "6ceaf905-46de-4d85-85a4-e5e548e3175e",
   "metadata": {},
   "outputs": [
    {
     "name": "stdout",
     "output_type": "stream",
     "text": [
      "2\n"
     ]
    }
   ],
   "source": [
    "string1= \"ola ola ola\"\n",
    "count=0\n",
    "for i in range(len(string1)):\n",
    "    if string1[i:i+4]=='ola ':\n",
    "        count+=1\n",
    "print(count)\n",
    "    "
   ]
  },
  {
   "cell_type": "code",
   "execution_count": 8,
   "id": "87bd0968-a38d-49ae-814f-0caf0070ff69",
   "metadata": {},
   "outputs": [
    {
     "data": {
      "text/plain": [
       "'weLlllcome'"
      ]
     },
     "execution_count": 8,
     "metadata": {},
     "output_type": "execute_result"
    }
   ],
   "source": [
    "#dictionary\n",
    "#replaced the word \n",
    "string1='welcome'\n",
    "#replace l with a capital L\n",
    "string1.replace('l','Llll')\n"
   ]
  },
  {
   "cell_type": "code",
   "execution_count": 27,
   "id": "bb808c76-2893-45c4-8732-064ce209ee0f",
   "metadata": {},
   "outputs": [
    {
     "data": {
      "text/plain": [
       "'RestaRt RRRr'"
      ]
     },
     "execution_count": 27,
     "metadata": {},
     "output_type": "execute_result"
    }
   ],
   "source": [
    "\n",
    "string1=\"restart rrrr\"\n",
    "string1.replace('r',\"R\",)   #-1 FOR ALL THE OCCURENECE\n",
    "#COUNTING INTEGER FOR THR LIMITED OCCURENCE IN  THE STRING\n",
    "\n",
    "\n",
    "\n",
    "\n"
   ]
  },
  {
   "cell_type": "code",
   "execution_count": null,
   "id": "8931ee69-9d54-4c0b-b623-98f73b64d893",
   "metadata": {},
   "outputs": [],
   "source": [
    "string1=\"restart rrrr\"#TO REPLACE THE LAST R IN THE CSES OF THE STRINGa\n",
    "string1.replace('r',\"R\",-1)"
   ]
  },
  {
   "cell_type": "code",
   "execution_count": null,
   "id": "a72cefce-4ec9-49d8-b718-fdca9b0964ad",
   "metadata": {},
   "outputs": [],
   "source": []
  },
  {
   "cell_type": "code",
   "execution_count": 32,
   "id": "99db3182-2a1e-4657-9756-b501ddca3542",
   "metadata": {},
   "outputs": [
    {
     "data": {
      "text/plain": [
       "'restaRt'"
      ]
     },
     "execution_count": 32,
     "metadata": {},
     "output_type": "execute_result"
    }
   ],
   "source": [
    "string1='restart'\n",
    "s1=string1[0]\n",
    "s2=string1[1:].replace('r','R')\n",
    "s1+s2\n",
    "#by dividing the eplacing the r"
   ]
  },
  {
   "cell_type": "code",
   "execution_count": 36,
   "id": "84d0a584-2535-4bdd-8070-991881f4ea87",
   "metadata": {},
   "outputs": [
    {
     "data": {
      "text/plain": [
       "3"
      ]
     },
     "execution_count": 36,
     "metadata": {},
     "output_type": "execute_result"
    }
   ],
   "source": [
    "#index\n",
    "string1=\"welcome pyhton\"\n",
    "#INDEX OF C  \n",
    "string1.index('c')"
   ]
  },
  {
   "cell_type": "code",
   "execution_count": 38,
   "id": "5eec3c3d-bce2-4bcd-a49f-7e34ae0c28bf",
   "metadata": {},
   "outputs": [
    {
     "data": {
      "text/plain": [
       "11"
      ]
     },
     "execution_count": 38,
     "metadata": {},
     "output_type": "execute_result"
    }
   ],
   "source": [
    "string1.index('t')"
   ]
  },
  {
   "cell_type": "code",
   "execution_count": 41,
   "id": "3381cfdd-0deb-4c2f-8e3a-cc610f51aa7c",
   "metadata": {},
   "outputs": [
    {
     "data": {
      "text/plain": [
       "4"
      ]
     },
     "execution_count": 41,
     "metadata": {},
     "output_type": "execute_result"
    }
   ],
   "source": [
    "string1=\"how are you\" \n",
    "string1.count('r')\n",
    "string1.index('a')"
   ]
  },
  {
   "cell_type": "code",
   "execution_count": 45,
   "id": "17b46d37-4a83-4faa-a984-4651f273d671",
   "metadata": {},
   "outputs": [
    {
     "name": "stdout",
     "output_type": "stream",
     "text": [
      "4\n"
     ]
    }
   ],
   "source": [
    "for i in range(len(string1)): \n",
    "    if string1[i]==\"a\":\n",
    "        print(i)"
   ]
  },
  {
   "cell_type": "code",
   "execution_count": 62,
   "id": "e8e191f1-a571-401a-87c5-3deef100bc09",
   "metadata": {},
   "outputs": [
    {
     "name": "stdout",
     "output_type": "stream",
     "text": [
      "1 5 9\n"
     ]
    }
   ],
   "source": [
    "  #to kn'owall thr occurence\n",
    "string1='hai hai hai'\n",
    "a1 =string1.index('a')#first occurence of a is 1\n",
    "a2 =string1.index('a',5)#third ocurence position\n",
    "a3=string1.index('a',6)#second occurence position\n",
    "print(a1,a2,a3)"
   ]
  },
  {
   "cell_type": "code",
   "execution_count": 67,
   "id": "d5993025-26ca-41d3-9ccc-e7a098d1a1b9",
   "metadata": {},
   "outputs": [
    {
     "name": "stdout",
     "output_type": "stream",
     "text": [
      "5\n",
      "5\n",
      "5\n",
      "1\n"
     ]
    }
   ],
   "source": [
    "#function in function\n",
    "for i in string1:\n",
    "    if i==\"a\":\n",
    "        index=string1.index(i)\n",
    "        print(string1.index(i,index +1))\n",
    "print(index)"
   ]
  },
  {
   "cell_type": "code",
   "execution_count": 5,
   "id": "9074ffbc-8009-41cc-ad5d-75e95e16989a",
   "metadata": {},
   "outputs": [
    {
     "name": "stdout",
     "output_type": "stream",
     "text": [
      "hello how are you\n",
      "hello how are you   \n",
      "  hello how are you\n"
     ]
    }
   ],
   "source": [
    "#stripping function\n",
    "str1=' hello how are you    '\n",
    "str2='       hello how are you   '\n",
    "str3='  hello how are you '\n",
    "print(str1.strip())\n",
    "print(str2.lstrip())\n",
    "print(str3.rstrip())\n",
    "#to remove the spaces from  the both sides used the strip method\n",
    "#to remove from left lstrp\n",
    "#to remove from right side used rstrip\n"
   ]
  },
  {
   "cell_type": "code",
   "execution_count": 6,
   "id": "ed4267df-7acc-41fc-8074-a9798034ba0c",
   "metadata": {},
   "outputs": [
    {
     "data": {
      "text/plain": [
       "'  hello how are you '"
      ]
     },
     "execution_count": 6,
     "metadata": {},
     "output_type": "execute_result"
    }
   ],
   "source": [
    "str3"
   ]
  },
  {
   "cell_type": "code",
   "execution_count": 3,
   "id": "7234cbfd-b98e-4337-8936-985612127567",
   "metadata": {},
   "outputs": [
    {
     "name": "stdout",
     "output_type": "stream",
     "text": [
      "6\n"
     ]
    }
   ],
   "source": [
    "str1='aditya.chawade.15@gmail.com'\n",
    "#extract the name from the folllownig word\n",
    "print(str1.find('.'))\n"
   ]
  },
  {
   "cell_type": "code",
   "execution_count": 12,
   "id": "a5d2cb9f-2f64-4749-a936-e2e58f69f73e",
   "metadata": {},
   "outputs": [
    {
     "data": {
      "text/plain": [
       "'aditya.'"
      ]
     },
     "execution_count": 12,
     "metadata": {},
     "output_type": "execute_result"
    }
   ],
   "source": [
    "str1[0:7]"
   ]
  },
  {
   "cell_type": "code",
   "execution_count": 7,
   "id": "d6be294f-ca81-4b45-972a-dd3e60c83ff6",
   "metadata": {},
   "outputs": [
    {
     "data": {
      "text/plain": [
       "5"
      ]
     },
     "execution_count": 7,
     "metadata": {},
     "output_type": "execute_result"
    }
   ],
   "source": [
    "str1.index('a',1)"
   ]
  },
  {
   "cell_type": "code",
   "execution_count": 8,
   "id": "8566c9d0-00af-4b18-b147-d2f6d9f60567",
   "metadata": {},
   "outputs": [],
   "source": [
    "str2='hello how are you   '\n",
    "str3='  hello how are you'\n",
    "str4=' hello how are you '"
   ]
  },
  {
   "cell_type": "code",
   "execution_count": 9,
   "id": "b730785f-9988-439c-b6ad-de9d2775b05c",
   "metadata": {},
   "outputs": [
    {
     "data": {
      "text/plain": [
       "'hello how are you'"
      ]
     },
     "execution_count": 9,
     "metadata": {},
     "output_type": "execute_result"
    }
   ],
   "source": [
    "str2.rstrip()"
   ]
  },
  {
   "cell_type": "code",
   "execution_count": 11,
   "id": "974892ca-014e-4ef4-a335-bacf7fc2e042",
   "metadata": {},
   "outputs": [
    {
     "data": {
      "text/plain": [
       "'hello how are you'"
      ]
     },
     "execution_count": 11,
     "metadata": {},
     "output_type": "execute_result"
    }
   ],
   "source": [
    "str3.lstrip()"
   ]
  },
  {
   "cell_type": "code",
   "execution_count": 14,
   "id": "7c88133c-0992-4d64-85c5-ba7cbb4d1ca0",
   "metadata": {},
   "outputs": [
    {
     "data": {
      "text/plain": [
       "''"
      ]
     },
     "execution_count": 14,
     "metadata": {},
     "output_type": "execute_result"
    }
   ],
   "source": [
    "str4.lstrip(str3.rstrip())"
   ]
  },
  {
   "cell_type": "code",
   "execution_count": 33,
   "id": "53db8372-734e-4a8e-9a1d-43fb254e1009",
   "metadata": {},
   "outputs": [
    {
     "name": "stdout",
     "output_type": "stream",
     "text": [
      "python\n",
      "anaconda\n",
      "@nareshi\n",
      "7\n"
     ]
    }
   ],
   "source": [
    "#WAP TO EXTRACT THE WWORD\n",
    "str1='python.anaconda.@nareshit.com'\n",
    "print(str1[:6])\n",
    "print(str1[7:15])\n",
    "print(str1[16:24])\n",
    "print(str1.find(\"a \n",
    "\n",
    "\n"
   ]
  },
  {
   "cell_type": "code",
   "execution_count": 38,
   "id": "69398122-61d8-450f-9ce7-efcc6b62be11",
   "metadata": {},
   "outputs": [
    {
     "name": "stdout",
     "output_type": "stream",
     "text": [
      "1489\n"
     ]
    }
   ],
   "source": [
    "str1=\"3.1489\"\n",
    "str1.index('.')\n",
    "print(str1[2:])\n"
   ]
  },
  {
   "cell_type": "code",
   "execution_count": null,
   "id": "9a287df6-1268-4905-85fb-1ac1dd4e09b4",
   "metadata": {},
   "outputs": [],
   "source": []
  }
 ],
 "metadata": {
  "kernelspec": {
   "display_name": "Python 3 (ipykernel)",
   "language": "python",
   "name": "python3"
  },
  "language_info": {
   "codemirror_mode": {
    "name": "ipython",
    "version": 3
   },
   "file_extension": ".py",
   "mimetype": "text/x-python",
   "name": "python",
   "nbconvert_exporter": "python",
   "pygments_lexer": "ipython3",
   "version": "3.13.4"
  }
 },
 "nbformat": 4,
 "nbformat_minor": 5
}
