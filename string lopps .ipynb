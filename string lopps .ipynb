{
 "cells": [
  {
   "cell_type": "code",
   "execution_count": 65,
   "id": "5ec523f0-476a-43be-9988-c65d4380b629",
   "metadata": {},
   "outputs": [
    {
     "name": "stdout",
     "output_type": "stream",
     "text": [
      "p\n",
      "y\n",
      "t\n",
      "h\n",
      "o\n",
      "n\n",
      "p\n",
      "y\n",
      "t\n",
      "h\n",
      "o\n",
      "n\n"
     ]
    }
   ],
   "source": [
    "string1='python'\n",
    "for i in string1:\n",
    "    print(i)\n",
    "for i in range(len(string1)):\n",
    "    print(string1[i])\n"
   ]
  },
  {
   "cell_type": "code",
   "execution_count": 41,
   "id": "627d0ae1-259b-46d4-baec-555379ecde41",
   "metadata": {},
   "outputs": [
    {
     "name": "stdout",
     "output_type": "stream",
     "text": [
      "h\n",
      "p\n",
      "y\n",
      "t\n",
      "h\n",
      "o\n",
      "n\n"
     ]
    }
   ],
   "source": [
    "#indexing in the string\n",
    "string1 =\"python\"\n",
    "print(string1[3])\n",
    "for i in 'python':\n",
    "    print(i)"
   ]
  },
  {
   "cell_type": "code",
   "execution_count": 35,
   "id": "606cd5e0-4a2b-4e8c-b132-4bdf7edfee52",
   "metadata": {},
   "outputs": [
    {
     "name": "stdout",
     "output_type": "stream",
     "text": [
      " oaeou\n"
     ]
    }
   ],
   "source": [
    "#wap to count the no of oweLS WHICH AR UNIQUE IN THE STRING\n",
    "\n",
    "str1=\"how are you\"\n",
    "string = \" \"\n",
    "for i in str1:\n",
    "    if i in'aeiou':\n",
    "        string = string + i\n",
    "print(string)"
   ]
  },
  {
   "cell_type": "code",
   "execution_count": 36,
   "id": "a7b3c518-3fbb-44a2-a264-4c3d39406963",
   "metadata": {},
   "outputs": [],
   "source": [
    "str3 ='how'\n",
    "str4 =\"are\"\n",
    "str5= 'you'"
   ]
  },
  {
   "cell_type": "code",
   "execution_count": null,
   "id": "b86f6edb-a457-4e8c-b8b3-597b18bf1d6b",
   "metadata": {},
   "outputs": [],
   "source": [
    "#wap to count the no of owels in the given string\n",
    "string3 ='hi hello how are you'\n",
    "count=0\n",
    "for i in string3:\n",
    "    \n",
    "    if i==\"a\"or i==\"e\"or i==\"i\"or i==\"u\" or i==\"o\":\n",
    "        count=count+1\n",
    "print(count)"
   ]
  },
  {
   "cell_type": "code",
   "execution_count": null,
   "id": "2909da0d-5c86-4531-92a9-88963bf6b001",
   "metadata": {},
   "outputs": [],
   "source": [
    "string2 =\"how a person do with his woman \"\n",
    "count=0\n",
    "for i in string2:\n",
    "    if i==\"a\":\n",
    "        count=count+1\n",
    "print(count)"
   ]
  },
  {
   "cell_type": "code",
   "execution_count": null,
   "id": "24b0ecf6-da97-4124-87ad-0957dcbe0fc4",
   "metadata": {},
   "outputs": [],
   "source": [
    "import string\n",
    "dir(string)"
   ]
  },
  {
   "cell_type": "code",
   "execution_count": null,
   "id": "8f0af250-5526-4bb6-b689-66612f416960",
   "metadata": {},
   "outputs": [],
   "source": [
    "\n",
    "for i in string1:\n",
    "    print(ord(i))"
   ]
  },
  {
   "cell_type": "code",
   "execution_count": null,
   "id": "e6d7022a-a0a5-41e9-b873-4e13cfb035aa",
   "metadata": {},
   "outputs": [],
   "source": [
    "# i want to print python using the (in)operator \n",
    "string1= \"python\"\n",
    "'p' in string1\n",
    "\"y\"in string1\n",
    "\"t\" in string1\n",
    "\"o\" in string1\n",
    "\"n\" in string1\n",
    "\"python\" in string1\n",
    "# for using the range function needed to be provided with the numericals values\n",
    "#in operators is used for only the strings\n",
    "# forn  prnting the character used  for loop with in operator"
   ]
  },
  {
   "cell_type": "code",
   "execution_count": null,
   "id": "545feee9-cf0c-41d6-a1da-a67e285eeddb",
   "metadata": {},
   "outputs": [],
   "source": [
    "for i in string1:\n",
    "    print(i)"
   ]
  },
  {
   "cell_type": "code",
   "execution_count": null,
   "id": "0c4eb8c8-c4da-4675-a57d-3bdc1404a5cb",
   "metadata": {},
   "outputs": [],
   "source": [
    "print('hello world')"
   ]
  },
  {
   "cell_type": "code",
   "execution_count": null,
   "id": "67d6327e-7bd7-4373-b25f-fa303daea36e",
   "metadata": {},
   "outputs": [],
   "source": [
    "#strings\n",
    "#list \n",
    "#dictionary\n",
    "#tuple\n",
    "#sets"
   ]
  },
  {
   "cell_type": "code",
   "execution_count": null,
   "id": "4a2247d4-edd3-43a0-bdae-347e9f752071",
   "metadata": {},
   "outputs": [],
   "source": [
    "#how to read the string \n",
    "string123= \"aditya\"\n",
    "string123='aditya'\n",
    "string1223=\"\"\"aditya\"\"\"\n",
    "print(string1223)\n"
   ]
  },
  {
   "cell_type": "code",
   "execution_count": null,
   "id": "e7dc620c-30d3-4a89-b2be-15ff41f718e6",
   "metadata": {},
   "outputs": [],
   "source": [
    "#to highliht the string\n",
    "Aditya = 'aditya \"chawade\"'\n",
    "print(Aditya)"
   ]
  },
  {
   "cell_type": "code",
   "execution_count": null,
   "id": "1fea9211-fa01-4aa5-b6ac-3a9f72064629",
   "metadata": {},
   "outputs": [],
   "source": [
    "# TYPES OF OPERATIONS ON THE STRING TYPE,LEN,MAX,MIN\n",
    "#TYPE \n",
    "a =\"aditya\"\n",
    "print(type(a))\n",
    "#len\n",
    "print(len(a))\n",
    "#max\n",
    "print(max(a))\n",
    "#min\n",
    "print(min(a))"
   ]
  },
  {
   "cell_type": "code",
   "execution_count": null,
   "id": "d5a7b42d-ab54-46f8-b313-6878f20cad26",
   "metadata": {},
   "outputs": [],
   "source": [
    "#ord and #chr\n",
    "a=\"o\"\n",
    "ord(a)\n",
    "strin1=\"python\"\n",
    "ord(\"a\"),ord(\"p\"),ord(\"y\"),ord()\n"
   ]
  },
  {
   "cell_type": "code",
   "execution_count": null,
   "id": "7d34590c-74a0-4d34-b93c-fae428b7abf0",
   "metadata": {},
   "outputs": [],
   "source": [
    "string1=\"python\"\n",
    "for  i in range(len(\"python\")):# inside string the integer is needed too be provided\n",
    "    print(i)\n",
    "\n",
    "for i in string1:\n",
    "    print(ord(i))"
   ]
  }
 ],
 "metadata": {
  "kernelspec": {
   "display_name": "Python [conda env:base] *",
   "language": "python",
   "name": "conda-base-py"
  },
  "language_info": {
   "codemirror_mode": {
    "name": "ipython",
    "version": 3
   },
   "file_extension": ".py",
   "mimetype": "text/x-python",
   "name": "python",
   "nbconvert_exporter": "python",
   "pygments_lexer": "ipython3",
   "version": "3.12.7"
  }
 },
 "nbformat": 4,
 "nbformat_minor": 5
}
